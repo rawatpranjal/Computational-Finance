{
 "cells": [
  {
   "cell_type": "code",
   "execution_count": null,
   "id": "6bdc2fc1",
   "metadata": {},
   "outputs": [],
   "source": [
    "import pandas as pd\n",
    "df = pd.read_csv('/Users/pranjal/Downloads/ebbqmwqqbfrv1gys.csv')\n",
    "df1 = df[df.IndNm == 'CRSP NYSE/NYSEMKT/Nasdaq Value-Weighted Market Index'][['YYYYMM', 'MthTotInd', 'MthTotRet']]\n",
    "df1['YYYY'] = df1.YYYYMM.astype(str).str[0:4].astype(int)\n",
    "df1['AnnualStockIndex'] = df1.MthTotInd.str.replace(',','').astype(float)\n",
    "df1 = df1[['YYYY', 'AnnualStockIndex']].groupby('YYYY').mean().sort_index(ascending=False).reset_index()\n",
    "df1['AnnualReturnStock'] = df1['AnnualStockIndex'].pct_change(periods = -1)\n",
    "df1.head()\n",
    "\n",
    "df2 = df[df.IndNm == 'CRSP 90-Day Bill Returns'][['YYYYMM', 'MthTotInd', 'MthTotRet']]\n",
    "df2['YYYY'] = df2.YYYYMM.astype(str).str[0:4].astype(int)\n",
    "df2['AnnualTbillIndex'] = df2.MthTotInd.str.replace(',','').astype(float)\n",
    "df2 = df2[['YYYY', 'AnnualTbillIndex']].groupby('YYYY').mean().sort_index(ascending=False).reset_index()\n",
    "df2['AnnualReturnTbill'] = df2['AnnualTbillIndex'].pct_change(periods = -1)\n",
    "df2.head()\n",
    "\n",
    "df = pd.concat([df1, df2], axis = 1)[['YYYY', 'AnnualStockIndex', 'AnnualReturnStock', 'AnnualTbillIndex', 'AnnualReturnTbill']]\n",
    "df = df.loc[:,~df.columns.duplicated()].copy()\n",
    "df = df.dropna()\n",
    "df.to_csv('stock_tbill_returns.csv')\n",
    "df.head(20)"
   ]
  }
 ],
 "metadata": {
  "kernelspec": {
   "display_name": "Python 3 (ipykernel)",
   "language": "python",
   "name": "python3"
  },
  "language_info": {
   "codemirror_mode": {
    "name": "ipython",
    "version": 3
   },
   "file_extension": ".py",
   "mimetype": "text/x-python",
   "name": "python",
   "nbconvert_exporter": "python",
   "pygments_lexer": "ipython3",
   "version": "3.10.8"
  }
 },
 "nbformat": 4,
 "nbformat_minor": 5
}
