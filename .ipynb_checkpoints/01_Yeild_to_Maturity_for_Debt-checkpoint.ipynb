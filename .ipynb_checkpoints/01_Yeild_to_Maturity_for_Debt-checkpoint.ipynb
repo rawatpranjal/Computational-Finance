{
 "cells": [
  {
   "cell_type": "code",
   "execution_count": 35,
   "id": "9419ab1c",
   "metadata": {},
   "outputs": [
    {
     "name": "stdout",
     "output_type": "stream",
     "text": [
      "Annual y2m for loan A: 0.016\n",
      "Annual y2m for loan B: 0.016\n"
     ]
    }
   ],
   "source": [
    "# Simple Loan\n",
    "# Lender gives principal with interest rate and term\n",
    "# Borrower returns Principal and Interest at maturity\n",
    "\n",
    "import scipy\n",
    "from scipy.optimize import fsolve\n",
    "def y2m_simpleloan(P, c, T):\n",
    "    def func(y):\n",
    "        return [(P * (1+c))/(1+y[0])**T - P]\n",
    "    root = fsolve(func, [0])\n",
    "    y = root[0]\n",
    "    return round(y, 4)\n",
    "\n",
    "# Compare yeild on two loands\n",
    "# A: 1000, 0.1, 6 years\n",
    "# B: 900, 0.05, 4.85 years\n",
    "\n",
    "print('Annual y2m for loan A:', y2m_simpleloan(1000, 0.1, 6))\n",
    "print('Annual y2m for loan B:', y2m_simpleloan(1000, 0.08, 4.85))"
   ]
  },
  {
   "cell_type": "code",
   "execution_count": 46,
   "id": "ac361235",
   "metadata": {},
   "outputs": [
    {
     "name": "stdout",
     "output_type": "stream",
     "text": [
      "Annual y2m for loan A: 0.11718\n"
     ]
    }
   ],
   "source": [
    "# Fixed Loan Payment / Fully Amortized Mortgage\n",
    "# Lender gives principal and sets a yearly payment amount and term.  \n",
    "# Borrower pays the fixed amount every period until maturity, this sum includes principal and interest payments. \n",
    "\n",
    "import scipy\n",
    "from scipy.optimize import fsolve\n",
    "def y2m_fixedloan(P, YP, T):\n",
    "    def func(y):\n",
    "        r = (1/(1+y[0]))\n",
    "        return [YP * r * (1-r**T)/(1-r) - P]\n",
    "    root = fsolve(func, [0.2])\n",
    "    y = root[0]\n",
    "    return round(y, 5)\n",
    "\n",
    "\n",
    "# Compare yeild on two loands\n",
    "print('Annual y2m for loan A:', y2m_fixedloan(1000, 126, 24))\n"
   ]
  },
  {
   "cell_type": "code",
   "execution_count": null,
   "id": "bd9c6278",
   "metadata": {},
   "outputs": [],
   "source": []
  }
 ],
 "metadata": {
  "kernelspec": {
   "display_name": "Python 3 (ipykernel)",
   "language": "python",
   "name": "python3"
  },
  "language_info": {
   "codemirror_mode": {
    "name": "ipython",
    "version": 3
   },
   "file_extension": ".py",
   "mimetype": "text/x-python",
   "name": "python",
   "nbconvert_exporter": "python",
   "pygments_lexer": "ipython3",
   "version": "3.10.5"
  }
 },
 "nbformat": 4,
 "nbformat_minor": 5
}
