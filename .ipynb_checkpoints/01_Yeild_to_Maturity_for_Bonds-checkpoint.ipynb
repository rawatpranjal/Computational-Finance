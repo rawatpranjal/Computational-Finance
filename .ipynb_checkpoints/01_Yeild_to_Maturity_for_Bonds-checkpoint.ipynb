{
 "cells": [
  {
   "cell_type": "markdown",
   "id": "4ec76a4d",
   "metadata": {},
   "source": [
    "# Yield to Maturity for Debt Instruments:\n",
    "\n",
    "For any bond: \n",
    "- $y$ is the yeild-to-maturity or \"effective avg interest rate\" for that instrument\n",
    "- $P$ is the current value or current price\n",
    "- $F$ is the face value or par or \"principal\" or price at maturity guarenteed by issuer\n",
    "- $n$ is the term / maturity period (in years)\n",
    "- $c$ is the coupon rate (the fraction of $F$ that will be paid as interest, annually)\n",
    "\n",
    "The y2m of a debt instrument is the interest rate which equalises its price with the discounted sum of its cash flows\n",
    "\n",
    "$P^n_{t} = \\sum^n_{k = 0} cashflow_{t}/(1+y^n_{t})^k $\n",
    "\n",
    "Types of debt instruments: \n",
    "- Simple Loan\n",
    "- Discount Bonds\n",
    "- Perpetuity\n",
    "- Mortgage / Fixed Payment Loan\n",
    "- Coupon Bonds\n",
    "- Arbitrary Cashflow"
   ]
  },
  {
   "cell_type": "code",
   "execution_count": 1,
   "id": "cec1d5da",
   "metadata": {},
   "outputs": [
    {
     "name": "stdout",
     "output_type": "stream",
     "text": [
      "Annual y2m for loan A: 0.016\n",
      "Annual y2m for loan B: 0.016\n"
     ]
    }
   ],
   "source": [
    "# Simple Loan\n",
    "# Lender gives principal (P) with interest rate (c) and term (T)\n",
    "# Borrower returns Principal (P) and Interest (c * P) at maturity \n",
    "\n",
    "import scipy\n",
    "from scipy.optimize import fsolve\n",
    "def y2m_simpleloan(P, c, T):\n",
    "    def func(y):\n",
    "        return [(P * (1+c))/(1+y[0])**T - P]\n",
    "    root = fsolve(func, [0])\n",
    "    y = root[0]\n",
    "    return round(y, 4)\n",
    "\n",
    "# Compare yeild on two loands\n",
    "# A: 1000, 0.1, 6 years\n",
    "# B: 900, 0.05, 4.85 years\n",
    "\n",
    "print('Annual y2m for loan A:', y2m_simpleloan(1000, 0.1, 6))\n",
    "print('Annual y2m for loan B:', y2m_simpleloan(1000, 0.08, 4.85))"
   ]
  },
  {
   "cell_type": "code",
   "execution_count": 2,
   "id": "39f5cd63",
   "metadata": {},
   "outputs": [
    {
     "name": "stdout",
     "output_type": "stream",
     "text": [
      "Annual y2m for Discount Bond A: 0.0103\n",
      "Annual y2m for Discount Bond B: 0.0106\n"
     ]
    }
   ],
   "source": [
    "# Discount Bonds\n",
    "# Lender buys bonds at price (P) at a discount from its face value (F)\n",
    "# After maturity (T) the lender gets back face value\n",
    "# No interest payments\n",
    "\n",
    "import scipy\n",
    "from scipy.optimize import fsolve\n",
    "def y2m_discountbonds(P, F, T):\n",
    "    def func(y):\n",
    "        return [F/(1+y[0])**T - P]\n",
    "    root = fsolve(func, [0])\n",
    "    y = root[0]\n",
    "    return round(y, 4)\n",
    "\n",
    "# Compare yeild on two bonds\n",
    "# A: Bought at 95, matures in 5 years\n",
    "# B: Bought at 100, matures in 10 years\n",
    "\n",
    "print('Annual y2m for Discount Bond A:', y2m_discountbonds(95, 100, 5))\n",
    "print('Annual y2m for Discount Bond B:', y2m_discountbonds(90, 100, 10))"
   ]
  },
  {
   "cell_type": "code",
   "execution_count": 3,
   "id": "e285ddba",
   "metadata": {},
   "outputs": [
    {
     "name": "stdout",
     "output_type": "stream",
     "text": [
      "Annual y2m for perpetuity A: 0.050505050505050504\n",
      "Annual y2m for perpetuity B: 0.05\n"
     ]
    }
   ],
   "source": [
    "# Perpetuity / Consol\n",
    "# Lender buys bonds at price (P) and gets interest (c) on its face-value (F) forever\n",
    "# Bond never matures so final \"repayment\" and no maturity date.\n",
    "\n",
    "import scipy\n",
    "from scipy.optimize import fsolve\n",
    "def y2m_perpetuity(P, F, c):\n",
    "    return (c*F)/P\n",
    "\n",
    "# Compare yeild on two perpetuities\n",
    "# A: Bought at 95, gives 5% forever\n",
    "# B: Bought at 80, gives 4% forever\n",
    "\n",
    "print('Annual y2m for perpetuity A:', y2m_perpetuity(99, 100, 0.05))\n",
    "print('Annual y2m for perpetuity B:', y2m_perpetuity(80, 100, 0.04))"
   ]
  },
  {
   "cell_type": "code",
   "execution_count": 4,
   "id": "116f0785",
   "metadata": {},
   "outputs": [
    {
     "name": "stdout",
     "output_type": "stream",
     "text": [
      "Annual y2m for Mortgage A: 0.07\n",
      "Annual payments for Mortgage A: 9439.29257\n"
     ]
    }
   ],
   "source": [
    "# Mortgage / Fixed Payment Loan\n",
    "# Lender gives principal and sets a yearly payment amount and term.  \n",
    "# Borrower pays the fixed amount every period until maturity, this sum includes principal and interest payments. \n",
    "\n",
    "import scipy\n",
    "from scipy.optimize import fsolve\n",
    "def y2m_fixedloan(P, YP, T):\n",
    "    def func(y):\n",
    "        r = (1/(1+y[0]))\n",
    "        return [YP * r * (1-r**T)/(1-r) - P]\n",
    "    root = fsolve(func, [0.2])\n",
    "    y = root[0]\n",
    "    return round(y, 5)\n",
    "\n",
    "def yp_fixedloan(P, y, T):\n",
    "    def func(YP):\n",
    "        r = (1/(1+y))\n",
    "        return [YP[0] * r * (1-r**T)/(1-r) - P]\n",
    "    root = fsolve(func, [9000])\n",
    "    y = root[0]\n",
    "    return round(y, 5)\n",
    "\n",
    "# Yield and Payments on mortgage\n",
    "print('Annual y2m for Mortgage A:', y2m_fixedloan(100000, 9439.29, 20))\n",
    "print('Annual payments for Mortgage A:', yp_fixedloan(100000, 0.07, 20))"
   ]
  },
  {
   "cell_type": "code",
   "execution_count": 22,
   "id": "2397a0d3",
   "metadata": {},
   "outputs": [
    {
     "data": {
      "image/png": "[encoded data removed]",
      "text/plain": [
       "<Figure size 432x288 with 1 Axes>"
      ]
     },
     "metadata": {
      "needs_background": "light"
     },
     "output_type": "display_data"
    }
   ],
   "source": [
    "# Coupon Bond\n",
    "# Lender gives the principal/price for the bond and gets interests every period (coupons) \n",
    "# and a final par-value or face-value at the end. \n",
    "# P: Price, c: coupon rate, T: maturity term, F: par/face-value\n",
    "\n",
    "import scipy\n",
    "import numpy as np\n",
    "from scipy.optimize import fsolve\n",
    "def y2m_coupon(P, c, F, T):\n",
    "    def func(y):\n",
    "        r = (1/(1+y[0]))\n",
    "        YP = c * F\n",
    "        return [YP * r * (1-r**T)/(1-r) + F*r**T - P]\n",
    "    root = fsolve(func, [0.2])\n",
    "    y = root[0]\n",
    "    return round(y, 5)\n",
    "\n",
    "# Changing Bond Prices and Yield\n",
    "# Term 10, Face Value 1000, Coupon 10%\n",
    "\n",
    "import numpy as np\n",
    "prices = np.linspace(500, 1500, 20)\n",
    "yields = np.linspace(500, 1500, 20)\n",
    "for i, x in enumerate(prices):\n",
    "    yields[i] = y2m_coupon(x, 0.1, 1000, 10)\n",
    "    \n",
    "import matplotlib.pyplot as plt\n",
    "plt.plot(prices, yields)\n",
    "plt.title('Yields vs Prices')\n",
    "plt.show()\n"
   ]
  },
  {
   "cell_type": "code",
   "execution_count": 19,
   "id": "64d4e64d",
   "metadata": {},
   "outputs": [
    {
     "data": {
      "text/plain": [
       "(486.8418817692931, 484.2085595697804)"
      ]
     },
     "execution_count": 19,
     "metadata": {},
     "output_type": "execute_result"
    }
   ],
   "source": [
    "# Net Present Value Calculator\n",
    "# Given cash flow vector (c), and interest rate (i) we can calculate the present value of the cash-flow\n",
    "\n",
    "def npv(c, i):\n",
    "    t = 1\n",
    "    P = 0\n",
    "    for n in c:\n",
    "        P += n / (1+i)**t\n",
    "        t += 1\n",
    "    return P\n",
    "\n",
    "# Two cash flows with equivalent present value\n",
    "c1 = [100, 100, 100, 100, 100, 100, 100]\n",
    "c2 = [0, 50, 100, 150, 200, 250]\n",
    "i = 0.1\n",
    "npv(c1, i), npv(c2, i)"
   ]
  },
  {
   "cell_type": "code",
   "execution_count": null,
   "id": "419d93c6",
   "metadata": {},
   "outputs": [],
   "source": []
  }
 ],
 "metadata": {
  "kernelspec": {
   "display_name": "Python 3 (ipykernel)",
   "language": "python",
   "name": "python3"
  },
  "language_info": {
   "codemirror_mode": {
    "name": "ipython",
    "version": 3
   },
   "file_extension": ".py",
   "mimetype": "text/x-python",
   "name": "python",
   "nbconvert_exporter": "python",
   "pygments_lexer": "ipython3",
   "version": "3.10.5"
  }
 },
 "nbformat": 4,
 "nbformat_minor": 5
}
